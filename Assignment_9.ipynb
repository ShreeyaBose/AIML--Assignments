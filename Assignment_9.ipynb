{
  "nbformat": 4,
  "nbformat_minor": 0,
  "metadata": {
    "colab": {
      "provenance": []
    },
    "kernelspec": {
      "name": "python3",
      "display_name": "Python 3"
    },
    "language_info": {
      "name": "python"
    }
  },
  "cells": [
    {
      "cell_type": "code",
      "execution_count": 1,
      "metadata": {
        "id": "xvD5T6jdUKTU"
      },
      "outputs": [],
      "source": [
        "import pandas as pd\n"
      ]
    },
    {
      "cell_type": "code",
      "source": [
        "card=pd.read_csv('/content/CC GENERAL.csv')\n",
        "print(card)"
      ],
      "metadata": {
        "colab": {
          "base_uri": "https://localhost:8080/"
        },
        "id": "NG2aiX5mUT7u",
        "outputId": "9021e0f2-597e-481c-fcc2-3e970ec86c8e"
      },
      "execution_count": 2,
      "outputs": [
        {
          "output_type": "stream",
          "name": "stdout",
          "text": [
            "     CUST_ID      BALANCE  BALANCE_FREQUENCY  PURCHASES  ONEOFF_PURCHASES  \\\n",
            "0     C10001    40.900749           0.818182      95.40              0.00   \n",
            "1     C10002  3202.467416           0.909091       0.00              0.00   \n",
            "2     C10003  2495.148862           1.000000     773.17            773.17   \n",
            "3     C10004  1666.670542           0.636364    1499.00           1499.00   \n",
            "4     C10005   817.714335           1.000000      16.00             16.00   \n",
            "...      ...          ...                ...        ...               ...   \n",
            "8945  C19186    28.493517           1.000000     291.12              0.00   \n",
            "8946  C19187    19.183215           1.000000     300.00              0.00   \n",
            "8947  C19188    23.398673           0.833333     144.40              0.00   \n",
            "8948  C19189    13.457564           0.833333       0.00              0.00   \n",
            "8949  C19190   372.708075           0.666667    1093.25           1093.25   \n",
            "\n",
            "      INSTALLMENTS_PURCHASES  CASH_ADVANCE  PURCHASES_FREQUENCY  \\\n",
            "0                      95.40      0.000000             0.166667   \n",
            "1                       0.00   6442.945483             0.000000   \n",
            "2                       0.00      0.000000             1.000000   \n",
            "3                       0.00    205.788017             0.083333   \n",
            "4                       0.00      0.000000             0.083333   \n",
            "...                      ...           ...                  ...   \n",
            "8945                  291.12      0.000000             1.000000   \n",
            "8946                  300.00      0.000000             1.000000   \n",
            "8947                  144.40      0.000000             0.833333   \n",
            "8948                    0.00     36.558778             0.000000   \n",
            "8949                    0.00    127.040008             0.666667   \n",
            "\n",
            "      ONEOFF_PURCHASES_FREQUENCY  PURCHASES_INSTALLMENTS_FREQUENCY  \\\n",
            "0                       0.000000                          0.083333   \n",
            "1                       0.000000                          0.000000   \n",
            "2                       1.000000                          0.000000   \n",
            "3                       0.083333                          0.000000   \n",
            "4                       0.083333                          0.000000   \n",
            "...                          ...                               ...   \n",
            "8945                    0.000000                          0.833333   \n",
            "8946                    0.000000                          0.833333   \n",
            "8947                    0.000000                          0.666667   \n",
            "8948                    0.000000                          0.000000   \n",
            "8949                    0.666667                          0.000000   \n",
            "\n",
            "      CASH_ADVANCE_FREQUENCY  CASH_ADVANCE_TRX  PURCHASES_TRX  CREDIT_LIMIT  \\\n",
            "0                   0.000000                 0              2        1000.0   \n",
            "1                   0.250000                 4              0        7000.0   \n",
            "2                   0.000000                 0             12        7500.0   \n",
            "3                   0.083333                 1              1        7500.0   \n",
            "4                   0.000000                 0              1        1200.0   \n",
            "...                      ...               ...            ...           ...   \n",
            "8945                0.000000                 0              6        1000.0   \n",
            "8946                0.000000                 0              6        1000.0   \n",
            "8947                0.000000                 0              5        1000.0   \n",
            "8948                0.166667                 2              0         500.0   \n",
            "8949                0.333333                 2             23        1200.0   \n",
            "\n",
            "         PAYMENTS  MINIMUM_PAYMENTS  PRC_FULL_PAYMENT  TENURE  \n",
            "0      201.802084        139.509787          0.000000      12  \n",
            "1     4103.032597       1072.340217          0.222222      12  \n",
            "2      622.066742        627.284787          0.000000      12  \n",
            "3        0.000000               NaN          0.000000      12  \n",
            "4      678.334763        244.791237          0.000000      12  \n",
            "...           ...               ...               ...     ...  \n",
            "8945   325.594462         48.886365          0.500000       6  \n",
            "8946   275.861322               NaN          0.000000       6  \n",
            "8947    81.270775         82.418369          0.250000       6  \n",
            "8948    52.549959         55.755628          0.250000       6  \n",
            "8949    63.165404         88.288956          0.000000       6  \n",
            "\n",
            "[8950 rows x 18 columns]\n"
          ]
        }
      ]
    },
    {
      "cell_type": "code",
      "source": [
        "print(card.head())\n"
      ],
      "metadata": {
        "colab": {
          "base_uri": "https://localhost:8080/"
        },
        "id": "cOT3S-NEV_Qo",
        "outputId": "43c34ed5-123d-4419-c484-3044af45bb50"
      },
      "execution_count": 18,
      "outputs": [
        {
          "output_type": "stream",
          "name": "stdout",
          "text": [
            "  CUST_ID      BALANCE  BALANCE_FREQUENCY  PURCHASES  ONEOFF_PURCHASES  \\\n",
            "0  C10001    40.900749           0.818182      95.40              0.00   \n",
            "1  C10002  3202.467416           0.909091       0.00              0.00   \n",
            "2  C10003  2495.148862           1.000000     773.17            773.17   \n",
            "4  C10005   817.714335           1.000000      16.00             16.00   \n",
            "5  C10006  1809.828751           1.000000    1333.28              0.00   \n",
            "\n",
            "   INSTALLMENTS_PURCHASES  CASH_ADVANCE  PURCHASES_FREQUENCY  \\\n",
            "0                   95.40      0.000000             0.166667   \n",
            "1                    0.00   6442.945483             0.000000   \n",
            "2                    0.00      0.000000             1.000000   \n",
            "4                    0.00      0.000000             0.083333   \n",
            "5                 1333.28      0.000000             0.666667   \n",
            "\n",
            "   ONEOFF_PURCHASES_FREQUENCY  PURCHASES_INSTALLMENTS_FREQUENCY  \\\n",
            "0                    0.000000                          0.083333   \n",
            "1                    0.000000                          0.000000   \n",
            "2                    1.000000                          0.000000   \n",
            "4                    0.083333                          0.000000   \n",
            "5                    0.000000                          0.583333   \n",
            "\n",
            "   CASH_ADVANCE_FREQUENCY  CASH_ADVANCE_TRX  PURCHASES_TRX  CREDIT_LIMIT  \\\n",
            "0                    0.00                 0              2        1000.0   \n",
            "1                    0.25                 4              0        7000.0   \n",
            "2                    0.00                 0             12        7500.0   \n",
            "4                    0.00                 0              1        1200.0   \n",
            "5                    0.00                 0              8        1800.0   \n",
            "\n",
            "      PAYMENTS  MINIMUM_PAYMENTS  PRC_FULL_PAYMENT  TENURE  \n",
            "0   201.802084        139.509787          0.000000      12  \n",
            "1  4103.032597       1072.340217          0.222222      12  \n",
            "2   622.066742        627.284787          0.000000      12  \n",
            "4   678.334763        244.791237          0.000000      12  \n",
            "5  1400.057770       2407.246035          0.000000      12  \n"
          ]
        }
      ]
    },
    {
      "cell_type": "code",
      "source": [
        "print(card.isnull().sum())"
      ],
      "metadata": {
        "colab": {
          "base_uri": "https://localhost:8080/"
        },
        "id": "uTbGcyPmW3Mc",
        "outputId": "35e7c3e5-e681-41b9-8511-1ef17625a2be"
      },
      "execution_count": 17,
      "outputs": [
        {
          "output_type": "stream",
          "name": "stdout",
          "text": [
            "CUST_ID                             0\n",
            "BALANCE                             0\n",
            "BALANCE_FREQUENCY                   0\n",
            "PURCHASES                           0\n",
            "ONEOFF_PURCHASES                    0\n",
            "INSTALLMENTS_PURCHASES              0\n",
            "CASH_ADVANCE                        0\n",
            "PURCHASES_FREQUENCY                 0\n",
            "ONEOFF_PURCHASES_FREQUENCY          0\n",
            "PURCHASES_INSTALLMENTS_FREQUENCY    0\n",
            "CASH_ADVANCE_FREQUENCY              0\n",
            "CASH_ADVANCE_TRX                    0\n",
            "PURCHASES_TRX                       0\n",
            "CREDIT_LIMIT                        0\n",
            "PAYMENTS                            0\n",
            "MINIMUM_PAYMENTS                    0\n",
            "PRC_FULL_PAYMENT                    0\n",
            "TENURE                              0\n",
            "dtype: int64\n"
          ]
        }
      ]
    },
    {
      "cell_type": "code",
      "source": [
        "from sklearn.cluster import KMeans\n"
      ],
      "metadata": {
        "id": "vUhJ45vQYIK-"
      },
      "execution_count": 36,
      "outputs": []
    },
    {
      "cell_type": "code",
      "source": [
        "h = card.drop('CUST_ID', axis=1)\n",
        "h.fillna(method='ffill', inplace=True)\n"
      ],
      "metadata": {
        "id": "HhQnNAzRaqzN"
      },
      "execution_count": 33,
      "outputs": []
    },
    {
      "cell_type": "code",
      "source": [
        "kmeans = KMeans(n_clusters=5, random_state=42)\n",
        "kmeans.fit(h)\n"
      ],
      "metadata": {
        "colab": {
          "base_uri": "https://localhost:8080/",
          "height": 129
        },
        "id": "5xSU8ypka3-I",
        "outputId": "14386c4f-eec2-40c0-d810-d2d7f1590c7c"
      },
      "execution_count": 34,
      "outputs": [
        {
          "output_type": "stream",
          "name": "stderr",
          "text": [
            "/usr/local/lib/python3.10/dist-packages/sklearn/cluster/_kmeans.py:870: FutureWarning: The default value of `n_init` will change from 10 to 'auto' in 1.4. Set the value of `n_init` explicitly to suppress the warning\n",
            "  warnings.warn(\n"
          ]
        },
        {
          "output_type": "execute_result",
          "data": {
            "text/plain": [
              "KMeans(n_clusters=5, random_state=42)"
            ],
            "text/html": [
              "<style>#sk-container-id-1 {color: black;background-color: white;}#sk-container-id-1 pre{padding: 0;}#sk-container-id-1 div.sk-toggleable {background-color: white;}#sk-container-id-1 label.sk-toggleable__label {cursor: pointer;display: block;width: 100%;margin-bottom: 0;padding: 0.3em;box-sizing: border-box;text-align: center;}#sk-container-id-1 label.sk-toggleable__label-arrow:before {content: \"▸\";float: left;margin-right: 0.25em;color: #696969;}#sk-container-id-1 label.sk-toggleable__label-arrow:hover:before {color: black;}#sk-container-id-1 div.sk-estimator:hover label.sk-toggleable__label-arrow:before {color: black;}#sk-container-id-1 div.sk-toggleable__content {max-height: 0;max-width: 0;overflow: hidden;text-align: left;background-color: #f0f8ff;}#sk-container-id-1 div.sk-toggleable__content pre {margin: 0.2em;color: black;border-radius: 0.25em;background-color: #f0f8ff;}#sk-container-id-1 input.sk-toggleable__control:checked~div.sk-toggleable__content {max-height: 200px;max-width: 100%;overflow: auto;}#sk-container-id-1 input.sk-toggleable__control:checked~label.sk-toggleable__label-arrow:before {content: \"▾\";}#sk-container-id-1 div.sk-estimator input.sk-toggleable__control:checked~label.sk-toggleable__label {background-color: #d4ebff;}#sk-container-id-1 div.sk-label input.sk-toggleable__control:checked~label.sk-toggleable__label {background-color: #d4ebff;}#sk-container-id-1 input.sk-hidden--visually {border: 0;clip: rect(1px 1px 1px 1px);clip: rect(1px, 1px, 1px, 1px);height: 1px;margin: -1px;overflow: hidden;padding: 0;position: absolute;width: 1px;}#sk-container-id-1 div.sk-estimator {font-family: monospace;background-color: #f0f8ff;border: 1px dotted black;border-radius: 0.25em;box-sizing: border-box;margin-bottom: 0.5em;}#sk-container-id-1 div.sk-estimator:hover {background-color: #d4ebff;}#sk-container-id-1 div.sk-parallel-item::after {content: \"\";width: 100%;border-bottom: 1px solid gray;flex-grow: 1;}#sk-container-id-1 div.sk-label:hover label.sk-toggleable__label {background-color: #d4ebff;}#sk-container-id-1 div.sk-serial::before {content: \"\";position: absolute;border-left: 1px solid gray;box-sizing: border-box;top: 0;bottom: 0;left: 50%;z-index: 0;}#sk-container-id-1 div.sk-serial {display: flex;flex-direction: column;align-items: center;background-color: white;padding-right: 0.2em;padding-left: 0.2em;position: relative;}#sk-container-id-1 div.sk-item {position: relative;z-index: 1;}#sk-container-id-1 div.sk-parallel {display: flex;align-items: stretch;justify-content: center;background-color: white;position: relative;}#sk-container-id-1 div.sk-item::before, #sk-container-id-1 div.sk-parallel-item::before {content: \"\";position: absolute;border-left: 1px solid gray;box-sizing: border-box;top: 0;bottom: 0;left: 50%;z-index: -1;}#sk-container-id-1 div.sk-parallel-item {display: flex;flex-direction: column;z-index: 1;position: relative;background-color: white;}#sk-container-id-1 div.sk-parallel-item:first-child::after {align-self: flex-end;width: 50%;}#sk-container-id-1 div.sk-parallel-item:last-child::after {align-self: flex-start;width: 50%;}#sk-container-id-1 div.sk-parallel-item:only-child::after {width: 0;}#sk-container-id-1 div.sk-dashed-wrapped {border: 1px dashed gray;margin: 0 0.4em 0.5em 0.4em;box-sizing: border-box;padding-bottom: 0.4em;background-color: white;}#sk-container-id-1 div.sk-label label {font-family: monospace;font-weight: bold;display: inline-block;line-height: 1.2em;}#sk-container-id-1 div.sk-label-container {text-align: center;}#sk-container-id-1 div.sk-container {/* jupyter's `normalize.less` sets `[hidden] { display: none; }` but bootstrap.min.css set `[hidden] { display: none !important; }` so we also need the `!important` here to be able to override the default hidden behavior on the sphinx rendered scikit-learn.org. See: https://github.com/scikit-learn/scikit-learn/issues/21755 */display: inline-block !important;position: relative;}#sk-container-id-1 div.sk-text-repr-fallback {display: none;}</style><div id=\"sk-container-id-1\" class=\"sk-top-container\"><div class=\"sk-text-repr-fallback\"><pre>KMeans(n_clusters=5, random_state=42)</pre><b>In a Jupyter environment, please rerun this cell to show the HTML representation or trust the notebook. <br />On GitHub, the HTML representation is unable to render, please try loading this page with nbviewer.org.</b></div><div class=\"sk-container\" hidden><div class=\"sk-item\"><div class=\"sk-estimator sk-toggleable\"><input class=\"sk-toggleable__control sk-hidden--visually\" id=\"sk-estimator-id-1\" type=\"checkbox\" checked><label for=\"sk-estimator-id-1\" class=\"sk-toggleable__label sk-toggleable__label-arrow\">KMeans</label><div class=\"sk-toggleable__content\"><pre>KMeans(n_clusters=5, random_state=42)</pre></div></div></div></div></div>"
            ]
          },
          "metadata": {},
          "execution_count": 34
        }
      ]
    },
    {
      "cell_type": "code",
      "source": [
        "cluster_labels = kmeans.labels_\n",
        "h['Cluster'] = cluster_labels\n",
        "print(h['Cluster'].value_counts())\n",
        "print(kmeans.cluster_centers_)"
      ],
      "metadata": {
        "colab": {
          "base_uri": "https://localhost:8080/"
        },
        "id": "tMc1iDaCa5yw",
        "outputId": "634d17ee-af67-4669-f6e0-079e8a8f4fb4"
      },
      "execution_count": 35,
      "outputs": [
        {
          "output_type": "stream",
          "name": "stdout",
          "text": [
            "Cluster\n",
            "0    5184\n",
            "4    2418\n",
            "1     868\n",
            "3     110\n",
            "2      56\n",
            "Name: count, dtype: int64\n",
            "[[8.17543419e+02 8.73451617e-01 4.99705751e+02 2.40033315e+02\n",
            "  2.59986795e+02 4.96588296e+02 4.52674947e-01 1.29713087e-01\n",
            "  3.47844101e-01 1.12950039e-01 2.36375917e+00 9.44596681e+00\n",
            "  2.18412528e+03 9.15715716e+02 5.17249375e+02 1.52202225e-01\n",
            "  1.13948283e+01]\n",
            " [5.52846723e+03 9.61380919e-01 1.52478694e+03 9.36208297e+02\n",
            "  5.88655685e+02 3.88019473e+03 4.71580251e-01 2.63342555e-01\n",
            "  3.50477623e-01 3.32141441e-01 9.81127733e+00 2.14522440e+01\n",
            "  1.09527670e+04 4.06556038e+03 1.93036214e+03 6.95312727e-02\n",
            "  1.16697353e+01]\n",
            " [4.05814769e+03 9.88636375e-01 1.02737875e+03 1.18389464e+02\n",
            "  9.08989286e+02 9.22757849e+02 4.71320321e-01 3.92315536e-02\n",
            "  4.41152625e-01 1.05654714e-01 3.01785714e+00 1.86250000e+01\n",
            "  4.26785714e+03 1.62493914e+03 2.27600316e+04 1.48808929e-03\n",
            "  1.19107143e+01]\n",
            " [4.83575972e+03 9.14242418e-01 1.18188140e+04 8.43201936e+03\n",
            "  3.38699464e+03 5.25019148e+03 7.70234145e-01 6.24451018e-01\n",
            "  6.14720600e-01 2.08746536e-01 8.92727273e+00 8.81090909e+01\n",
            "  1.27181818e+04 1.90335072e+04 2.47061895e+03 3.62091991e-01\n",
            "  1.18545455e+01]\n",
            " [1.66525023e+03 9.14397115e-01 1.48140932e+03 9.22843832e+02\n",
            "  5.58965928e+02 8.31457025e+02 5.85684785e-01 3.33329230e-01\n",
            "  4.07488842e-01 1.18037665e-01 2.76684580e+00 2.12902026e+01\n",
            "  6.85352888e+03 2.04541533e+03 6.44868407e+02 2.01198036e-01\n",
            "  1.17614717e+01]]\n"
          ]
        }
      ]
    },
    {
      "cell_type": "code",
      "source": [
        "from sklearn.cluster import AgglomerativeClustering\n",
        "from scipy.cluster.hierarchy import dendrogram, linkage\n",
        "import matplotlib.pyplot as plt\n",
        "\n"
      ],
      "metadata": {
        "id": "O_dzRr6BY7BQ"
      },
      "execution_count": 41,
      "outputs": []
    },
    {
      "cell_type": "code",
      "source": [
        "h = card.drop('CUST_ID', axis=1)\n",
        "h.fillna(method='ffill', inplace=True)"
      ],
      "metadata": {
        "id": "jsLEOhY2bHDt"
      },
      "execution_count": 37,
      "outputs": []
    },
    {
      "cell_type": "code",
      "source": [
        "agglomerative_cluster = AgglomerativeClustering(n_clusters=5)\n",
        "cluster_labels = agglomerative_cluster.fit_predict(h)\n",
        "h['Cluster'] = cluster_labels\n",
        "print(h['Cluster'].value_counts())\n",
        "linked = linkage(h, 'ward')\n"
      ],
      "metadata": {
        "colab": {
          "base_uri": "https://localhost:8080/"
        },
        "id": "iR1_YtoGbIrD",
        "outputId": "488cfc7e-4008-40aa-fe52-5cc584520c87"
      },
      "execution_count": 38,
      "outputs": [
        {
          "output_type": "stream",
          "name": "stdout",
          "text": [
            "Cluster\n",
            "4    4504\n",
            "3    2336\n",
            "0    1680\n",
            "1      93\n",
            "2      23\n",
            "Name: count, dtype: int64\n"
          ]
        }
      ]
    },
    {
      "cell_type": "code",
      "source": [
        "plt.figure(figsize=(10, 7))\n",
        "dendrogram(linked,\n",
        " orientation='top', distance_sort='descending',\n",
        " show_leaf_counts=True)\n",
        "plt.title('Hierarchical Clustering Dendrogram')\n",
        "plt.xlabel('sample index')\n",
        "plt.ylabel('distance')\n",
        "plt.show()"
      ],
      "metadata": {
        "colab": {
          "base_uri": "https://localhost:8080/",
          "height": 645
        },
        "id": "jpIFV_sqbRhp",
        "outputId": "06eaa187-36b3-4b19-b393-47a3a6a56a2d"
      },
      "execution_count": 39,
      "outputs": [
        {
          "output_type": "display_data",
          "data": {
            "text/plain": [
              "<Figure size 1000x700 with 1 Axes>"
            ],
            "image/png": "[encoded data removed]"
          },
          "metadata": {}
        }
      ]
    }
  ]
}